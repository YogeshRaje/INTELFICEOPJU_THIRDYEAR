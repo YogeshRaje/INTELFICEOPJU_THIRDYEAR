{
 "cells": [
  {
   "cell_type": "markdown",
   "id": "7f4247c0",
   "metadata": {},
   "source": [
    "# K means algorithms"
   ]
  },
  {
   "cell_type": "code",
   "execution_count": 5,
   "id": "b5e5db7a",
   "metadata": {},
   "outputs": [],
   "source": [
    "#importing the necessary packages\n",
    "import pandas as pd\n",
    "from sklearn.cluster import KMeans\n",
    "import matplotlib.pyplot as plt"
   ]
  },
  {
   "cell_type": "code",
   "execution_count": 6,
   "id": "d8caf1ef",
   "metadata": {},
   "outputs": [],
   "source": [
    "#load the dataset\n",
    "df= pd.read_csv('Mall_Customers.csv')"
   ]
  },
  {
   "cell_type": "code",
   "execution_count": 7,
   "id": "98b5cff2",
   "metadata": {},
   "outputs": [
    {
     "data": {
      "text/plain": [
       "(200, 5)"
      ]
     },
     "execution_count": 7,
     "metadata": {},
     "output_type": "execute_result"
    }
   ],
   "source": [
    "df.shape  #find number of rows and columns in the dataset"
   ]
  },
  {
   "cell_type": "code",
   "execution_count": 8,
   "id": "201e499c",
   "metadata": {},
   "outputs": [
    {
     "name": "stdout",
     "output_type": "stream",
     "text": [
      "[[ 15  39  19]\n",
      " [ 15  81  21]\n",
      " [ 16   6  20]\n",
      " [ 16  77  23]\n",
      " [ 17  40  31]\n",
      " [ 17  76  22]\n",
      " [ 18   6  35]\n",
      " [ 18  94  23]\n",
      " [ 19   3  64]\n",
      " [ 19  72  30]\n",
      " [ 19  14  67]\n",
      " [ 19  99  35]\n",
      " [ 20  15  58]\n",
      " [ 20  77  24]\n",
      " [ 20  13  37]\n",
      " [ 20  79  22]\n",
      " [ 21  35  35]\n",
      " [ 21  66  20]\n",
      " [ 23  29  52]\n",
      " [ 23  98  35]\n",
      " [ 24  35  35]\n",
      " [ 24  73  25]\n",
      " [ 25   5  46]\n",
      " [ 25  73  31]\n",
      " [ 28  14  54]\n",
      " [ 28  82  29]\n",
      " [ 28  32  45]\n",
      " [ 28  61  35]\n",
      " [ 29  31  40]\n",
      " [ 29  87  23]\n",
      " [ 30   4  60]\n",
      " [ 30  73  21]\n",
      " [ 33   4  53]\n",
      " [ 33  92  18]\n",
      " [ 33  14  49]\n",
      " [ 33  81  21]\n",
      " [ 34  17  42]\n",
      " [ 34  73  30]\n",
      " [ 37  26  36]\n",
      " [ 37  75  20]\n",
      " [ 38  35  65]\n",
      " [ 38  92  24]\n",
      " [ 39  36  48]\n",
      " [ 39  61  31]\n",
      " [ 39  28  49]\n",
      " [ 39  65  24]\n",
      " [ 40  55  50]\n",
      " [ 40  47  27]\n",
      " [ 40  42  29]\n",
      " [ 40  42  31]\n",
      " [ 42  52  49]\n",
      " [ 42  60  33]\n",
      " [ 43  54  31]\n",
      " [ 43  60  59]\n",
      " [ 43  45  50]\n",
      " [ 43  41  47]\n",
      " [ 44  50  51]\n",
      " [ 44  46  69]\n",
      " [ 46  51  27]\n",
      " [ 46  46  53]\n",
      " [ 46  56  70]\n",
      " [ 46  55  19]\n",
      " [ 47  52  67]\n",
      " [ 47  59  54]\n",
      " [ 48  51  63]\n",
      " [ 48  59  18]\n",
      " [ 48  50  43]\n",
      " [ 48  48  68]\n",
      " [ 48  59  19]\n",
      " [ 48  47  32]\n",
      " [ 49  55  70]\n",
      " [ 49  42  47]\n",
      " [ 50  49  60]\n",
      " [ 50  56  60]\n",
      " [ 54  47  59]\n",
      " [ 54  54  26]\n",
      " [ 54  53  45]\n",
      " [ 54  48  40]\n",
      " [ 54  52  23]\n",
      " [ 54  42  49]\n",
      " [ 54  51  57]\n",
      " [ 54  55  38]\n",
      " [ 54  41  67]\n",
      " [ 54  44  46]\n",
      " [ 54  57  21]\n",
      " [ 54  46  48]\n",
      " [ 57  58  55]\n",
      " [ 57  55  22]\n",
      " [ 58  60  34]\n",
      " [ 58  46  50]\n",
      " [ 59  55  68]\n",
      " [ 59  41  18]\n",
      " [ 60  49  48]\n",
      " [ 60  40  40]\n",
      " [ 60  42  32]\n",
      " [ 60  52  24]\n",
      " [ 60  47  47]\n",
      " [ 60  50  27]\n",
      " [ 61  42  48]\n",
      " [ 61  49  20]\n",
      " [ 62  41  23]\n",
      " [ 62  48  49]\n",
      " [ 62  59  67]\n",
      " [ 62  55  26]\n",
      " [ 62  56  49]\n",
      " [ 62  42  21]\n",
      " [ 63  50  66]\n",
      " [ 63  46  54]\n",
      " [ 63  43  68]\n",
      " [ 63  48  66]\n",
      " [ 63  52  65]\n",
      " [ 63  54  19]\n",
      " [ 64  42  38]\n",
      " [ 64  46  19]\n",
      " [ 65  48  18]\n",
      " [ 65  50  19]\n",
      " [ 65  43  63]\n",
      " [ 65  59  49]\n",
      " [ 67  43  51]\n",
      " [ 67  57  50]\n",
      " [ 67  56  27]\n",
      " [ 67  40  38]\n",
      " [ 69  58  40]\n",
      " [ 69  91  39]\n",
      " [ 70  29  23]\n",
      " [ 70  77  31]\n",
      " [ 71  35  43]\n",
      " [ 71  95  40]\n",
      " [ 71  11  59]\n",
      " [ 71  75  38]\n",
      " [ 71   9  47]\n",
      " [ 71  75  39]\n",
      " [ 72  34  25]\n",
      " [ 72  71  31]\n",
      " [ 73   5  20]\n",
      " [ 73  88  29]\n",
      " [ 73   7  44]\n",
      " [ 73  73  32]\n",
      " [ 74  10  19]\n",
      " [ 74  72  35]\n",
      " [ 75   5  57]\n",
      " [ 75  93  32]\n",
      " [ 76  40  28]\n",
      " [ 76  87  32]\n",
      " [ 77  12  25]\n",
      " [ 77  97  28]\n",
      " [ 77  36  48]\n",
      " [ 77  74  32]\n",
      " [ 78  22  34]\n",
      " [ 78  90  34]\n",
      " [ 78  17  43]\n",
      " [ 78  88  39]\n",
      " [ 78  20  44]\n",
      " [ 78  76  38]\n",
      " [ 78  16  47]\n",
      " [ 78  89  27]\n",
      " [ 78   1  37]\n",
      " [ 78  78  30]\n",
      " [ 78   1  34]\n",
      " [ 78  73  30]\n",
      " [ 79  35  56]\n",
      " [ 79  83  29]\n",
      " [ 81   5  19]\n",
      " [ 81  93  31]\n",
      " [ 85  26  50]\n",
      " [ 85  75  36]\n",
      " [ 86  20  42]\n",
      " [ 86  95  33]\n",
      " [ 87  27  36]\n",
      " [ 87  63  32]\n",
      " [ 87  13  40]\n",
      " [ 87  75  28]\n",
      " [ 87  10  36]\n",
      " [ 87  92  36]\n",
      " [ 88  13  52]\n",
      " [ 88  86  30]\n",
      " [ 88  15  58]\n",
      " [ 88  69  27]\n",
      " [ 93  14  59]\n",
      " [ 93  90  35]\n",
      " [ 97  32  37]\n",
      " [ 97  86  32]\n",
      " [ 98  15  46]\n",
      " [ 98  88  29]\n",
      " [ 99  39  41]\n",
      " [ 99  97  30]\n",
      " [101  24  54]\n",
      " [101  68  28]\n",
      " [103  17  41]\n",
      " [103  85  36]\n",
      " [103  23  34]\n",
      " [103  69  32]\n",
      " [113   8  33]\n",
      " [113  91  38]\n",
      " [120  16  47]\n",
      " [120  79  35]\n",
      " [126  28  45]\n",
      " [126  74  32]\n",
      " [137  18  32]\n",
      " [137  83  30]]\n"
     ]
    }
   ],
   "source": [
    "X=df[['Annual Income (k$)','Spending Score (1-100)','Age']].values\n",
    "print(X)\n"
   ]
  },
  {
   "cell_type": "code",
   "execution_count": 9,
   "id": "b13480a5",
   "metadata": {},
   "outputs": [],
   "source": [
    "#SELECT CLUSTER SIZE AS 5 ; Default is 8 \n",
    "model=KMeans(n_clusters=5,random_state=42)"
   ]
  },
  {
   "cell_type": "code",
   "execution_count": 10,
   "id": "b3d48161",
   "metadata": {},
   "outputs": [
    {
     "data": {
      "text/plain": [
       "KMeans(n_clusters=5, random_state=42)"
      ]
     },
     "execution_count": 10,
     "metadata": {},
     "output_type": "execute_result"
    }
   ],
   "source": [
    "model.fit(X)"
   ]
  },
  {
   "cell_type": "code",
   "execution_count": 12,
   "id": "d15c77d0",
   "metadata": {},
   "outputs": [],
   "source": [
    "y=model.predict(X)"
   ]
  },
  {
   "cell_type": "code",
   "execution_count": 13,
   "id": "f19ddf9b",
   "metadata": {},
   "outputs": [
    {
     "data": {
      "image/png": "[encoded data removed]",
      "text/plain": [
       "<Figure size 640x480 with 1 Axes>"
      ]
     },
     "metadata": {},
     "output_type": "display_data"
    }
   ],
   "source": [
    "#show clusters combine\n",
    "for i in range(5):\n",
    "    plt.scatter(X[y==i,0],X[y==i,1])"
   ]
  },
  {
   "cell_type": "code",
   "execution_count": 37,
   "id": "aa6fe33f",
   "metadata": {},
   "outputs": [
    {
     "data": {
      "image/png": "[encoded data removed]",
      "text/plain": [
       "<Figure size 640x480 with 1 Axes>"
      ]
     },
     "metadata": {},
     "output_type": "display_data"
    }
   ],
   "source": [
    "#show clusters combine ; s is used for size ;s=150\n",
    "for i in range(5):\n",
    "    plt.scatter(X[y==i,0],X[y==i,1])\n",
    "    plt.scatter(model.cluster_centers_[:,0],model.cluster_centers_[:,1],s=150,color='yellow')"
   ]
  },
  {
   "cell_type": "code",
   "execution_count": 19,
   "id": "8766e10b",
   "metadata": {},
   "outputs": [
    {
     "data": {
      "text/plain": [
       "(5, 3)"
      ]
     },
     "execution_count": 19,
     "metadata": {},
     "output_type": "execute_result"
    }
   ],
   "source": [
    "model.cluster_centers_.shape   #K-means created 5 clusters with 3 features."
   ]
  },
  {
   "cell_type": "code",
   "execution_count": 20,
   "id": "060293bf",
   "metadata": {},
   "outputs": [
    {
     "data": {
      "text/plain": [
       "array([[26.30434783, 20.91304348, 45.2173913 ],\n",
       "       [86.53846154, 82.12820513, 32.69230769],\n",
       "       [55.29113924, 49.56962025, 43.08860759],\n",
       "       [87.75      , 17.58333333, 40.66666667],\n",
       "       [26.30434783, 78.56521739, 25.52173913]])"
      ]
     },
     "execution_count": 20,
     "metadata": {},
     "output_type": "execute_result"
    }
   ],
   "source": [
    "#show cluster centers or centroid for Annual Income (k$) and Spending Score (1-100),Age\n",
    "\n",
    "model.cluster_centers_"
   ]
  },
  {
   "cell_type": "code",
   "execution_count": 31,
   "id": "688e6abc",
   "metadata": {},
   "outputs": [
    {
     "name": "stdout",
     "output_type": "stream",
     "text": [
      "Silhouette Score: 0.444\n"
     ]
    }
   ],
   "source": [
    "#Calculate Silhoutte Score\n",
    "from sklearn.metrics import silhouette_score \n",
    "score = silhouette_score(X, y, metric='euclidean')\n",
    "# Print the score\n",
    "print('Silhouette Score: %.3f' % score)"
   ]
  },
  {
   "cell_type": "code",
   "execution_count": 34,
   "id": "5d613813",
   "metadata": {},
   "outputs": [
    {
     "name": "stdout",
     "output_type": "stream",
     "text": [
      "2Cluster,Score0.293166070535953\n",
      "3Cluster,Score0.3839349967742105\n",
      "4Cluster,Score0.40546302077733304\n",
      "5Cluster,Score0.44428597560893024\n",
      "6Cluster,Score0.4523443947724053\n",
      "7Cluster,Score0.4412807576186172\n",
      "8Cluster,Score0.4280971079746162\n",
      "9Cluster,Score0.40126260157691634\n",
      "10Cluster,Score0.3790978814868016\n",
      "11Cluster,Score0.3773045245801495\n",
      "12Cluster,Score0.3533695974548904\n",
      "13Cluster,Score0.34649030639881756\n",
      "14Cluster,Score0.3485798986558785\n"
     ]
    },
    {
     "data": {
      "text/plain": [
       "[<matplotlib.lines.Line2D at 0x21c27edf5b0>]"
      ]
     },
     "execution_count": 34,
     "metadata": {},
     "output_type": "execute_result"
    },
    {
     "data": {
      "image/png": "[encoded data removed]",
      "text/plain": [
       "<Figure size 640x480 with 1 Axes>"
      ]
     },
     "metadata": {},
     "output_type": "display_data"
    }
   ],
   "source": [
    "# show silhouette_score with cluster \n",
    "# from output we found that 5Cluster,Score is the maximum score \n",
    "# so we can finalize the cluster size =5 \n",
    "k=range(2,15)\n",
    "sse=[]\n",
    "for i in k:\n",
    "    demo_model=KMeans(n_clusters=i,random_state=0).fit(X)\n",
    "    sse.append(demo_model.inertia_)\n",
    "    y=demo_model.predict(X)\n",
    "    print(f\"{i}Cluster,Score{silhouette_score(X,y)}\")\n",
    "plt.scatter(k,sse)\n",
    "plt.plot(k,sse)"
   ]
  },
  {
   "cell_type": "markdown",
   "id": "39a1e99b",
   "metadata": {},
   "source": [
    "Introduction to Silhouette Score Concepts:\n",
    "\n",
    "Silhouette score is used to evaluate the quality of clusters created using clustering algorithms such as \n",
    "K-Means in terms of how well samples are clustered with other samples that are similar to each other\n",
    "\n",
    "The Silhouette score is calculated for each sample of different clusters. \n",
    "In order to calculate the Silhouette score for each observation / data point, \n",
    "the following distances need to be found out for each observations belonging to all the clusters:\n",
    "\n",
    "Mean distance between the observation and all other data points in the same cluster. \n",
    "This distance can also be called as mean intra-cluster distance. The mean distance is denoted by a\n",
    "\n",
    "Mean distance between the observation and all other data points of the next nearest cluster. \n",
    "This distance can also be called as mean nearest-cluster distance. The mean distance is denoted by b\n",
    "\n",
    "Silhouette score, S, for each sample is calculated using the following formula:\n",
    "    \n",
    "    S= (b-a)/max(a,b)\n",
    "\n",
    " \n",
    "Note:\n",
    "    \n",
    "    The value of Silhouette score varies from -1 to 1. \n",
    "    \n",
    "    If the score is 1, the cluster is dense and well-separated than other clusters. \n",
    "    \n",
    "    A value near 0 represents overlapping clusters with samples very close to the decision boundary of the \n",
    "    neighbouring clusters. \n",
    "    \n",
    "    A negative score (-1) indicate that the samples might have got assigned to the wrong clusters.\n",
    "    \n",
    "    "
   ]
  },
  {
   "cell_type": "markdown",
   "id": "c02a9f59",
   "metadata": {},
   "source": [
    "What is Elbow Method?\n",
    "Elbow method is one of the most popular method used to select the optimal number of clusters by fitting the model with a range of values for K in K-means algorithm. Elbow method requires drawing a line plot between SSE (Sum of Squared errors) vs number of clusters and finding the point representing the “elbow point” (the point after which the SSE or inertia starts decreasing in a linear fashion)"
   ]
  },
  {
   "cell_type": "markdown",
   "id": "2781e568",
   "metadata": {},
   "source": [
    "Advantages:\n",
    "The following are some advantages of K-Means clustering algorithms −\n",
    "\n",
    "It is very easy to understand and implement.\n",
    "If we have large number of variables then, K-means would be faster than Hierarchical clustering.\n",
    "On re-computation of centroids, an instance can change the cluster.\n",
    "Tighter clusters are formed with K-means as compared to Hierarchical clustering.\n",
    "\n"
   ]
  },
  {
   "cell_type": "markdown",
   "id": "e980bc22",
   "metadata": {},
   "source": [
    "Disadvantages:\n",
    "The following are some disadvantages of K-Means clustering algorithms −\n",
    "\n",
    "It is a bit difficult to predict the number of clusters i.e. the value of k.\n",
    "Output is strongly impacted by initial inputs like number of clusters (value of k).\n",
    "Order of data will have strong impact on the final output.\n",
    "It is very sensitive to rescaling. If we will rescale our data by means of normalization or standardization, then the output will completely change.final output.\n",
    "It is not good in doing clustering job if the clusters have a complicated geometric shape."
   ]
  },
  {
   "cell_type": "code",
   "execution_count": null,
   "id": "c546f89f",
   "metadata": {},
   "outputs": [],
   "source": [
    "Applications of K-Means Clustering Algorithm:\n",
    "    \n",
    "Market segmentation\n",
    "Document Clustering\n",
    "Image segmentation\n",
    "Image compression\n",
    "Customer segmentation\n",
    "Analyzing the trend on dynamic data"
   ]
  }
 ],
 "metadata": {
  "kernelspec": {
   "display_name": "Python 3 (ipykernel)",
   "language": "python",
   "name": "python3"
  },
  "language_info": {
   "codemirror_mode": {
    "name": "ipython",
    "version": 3
   },
   "file_extension": ".py",
   "mimetype": "text/x-python",
   "name": "python",
   "nbconvert_exporter": "python",
   "pygments_lexer": "ipython3",
   "version": "3.9.13"
  }
 },
 "nbformat": 4,
 "nbformat_minor": 5
}
